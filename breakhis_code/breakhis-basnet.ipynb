{
 "cells": [
  {
   "cell_type": "code",
   "execution_count": null,
   "metadata": {
    "_cell_guid": "b1076dfc-b9ad-4769-8c92-a6c4dae69d19",
    "_uuid": "8f2839f25d086af736a60e9eeb907d3b93b6e0e5"
   },
   "outputs": [],
   "source": [
    "# This Python 3 environment comes with many helpful analytics libraries installed\n",
    "# It is defined by the kaggle/python Docker image: https://github.com/kaggle/docker-python\n",
    "# For example, here's several helpful packages to load\n",
    "\n",
    "import numpy as np # linear algebra\n",
    "import pandas as pd # data processing, CSV file I/O (e.g. pd.read_csv)\n",
    "\n",
    "# Input data files are available in the read-only \"../input/\" directory\n",
    "# For example, running this (by clicking run or pressing Shift+Enter) will list all files under the input directory\n",
    "\n",
    "import os\n",
    "for dirname, _, filenames in os.walk('/kaggle/input'):\n",
    "    for filename in filenames:\n",
    "        print(os.path.join(dirname, filename))\n",
    "\n",
    "# You can write up to 20GB to the current directory (/kaggle/working/) that gets preserved as output when you create a version using \"Save & Run All\" \n",
    "# You can also write temporary files to /kaggle/temp/, but they won't be saved outside of the current session"
   ]
  },
  {
   "cell_type": "code",
   "execution_count": 1,
   "metadata": {
    "execution": {
     "iopub.execute_input": "2023-03-02T11:45:28.385547Z",
     "iopub.status.busy": "2023-03-02T11:45:28.385043Z",
     "iopub.status.idle": "2023-03-02T11:45:28.415336Z",
     "shell.execute_reply": "2023-03-02T11:45:28.414367Z",
     "shell.execute_reply.started": "2023-03-02T11:45:28.385508Z"
    }
   },
   "outputs": [],
   "source": [
    "import os\n",
    "for dirname, _, filenames in os.walk('/kaggle/working/check_point'):\n",
    "    for filename in filenames:\n",
    "        os.remove(os.path.join(dirname, filename))"
   ]
  },
  {
   "cell_type": "code",
   "execution_count": 1,
   "metadata": {
    "execution": {
     "iopub.execute_input": "2023-03-03T01:18:27.786724Z",
     "iopub.status.busy": "2023-03-03T01:18:27.786424Z",
     "iopub.status.idle": "2023-03-03T01:18:39.646842Z",
     "shell.execute_reply": "2023-03-03T01:18:39.645513Z",
     "shell.execute_reply.started": "2023-03-03T01:18:27.786695Z"
    }
   },
   "outputs": [
    {
     "name": "stdout",
     "output_type": "stream",
     "text": [
      "Collecting thop\n",
      "  Downloading thop-0.1.1.post2209072238-py3-none-any.whl (15 kB)\n",
      "Requirement already satisfied: torch in /opt/conda/lib/python3.7/site-packages (from thop) (1.13.0)\n",
      "Requirement already satisfied: typing-extensions in /opt/conda/lib/python3.7/site-packages (from torch->thop) (4.4.0)\n",
      "Installing collected packages: thop\n",
      "Successfully installed thop-0.1.1.post2209072238\n",
      "\u001b[33mWARNING: Running pip as the 'root' user can result in broken permissions and conflicting behaviour with the system package manager. It is recommended to use a virtual environment instead: https://pip.pypa.io/warnings/venv\u001b[0m\u001b[33m\n",
      "\u001b[0mNote: you may need to restart the kernel to use updated packages.\n"
     ]
    }
   ],
   "source": [
    "pip install thop"
   ]
  },
  {
   "cell_type": "code",
   "execution_count": 2,
   "metadata": {
    "execution": {
     "iopub.execute_input": "2023-03-03T01:18:39.651092Z",
     "iopub.status.busy": "2023-03-03T01:18:39.650780Z",
     "iopub.status.idle": "2023-03-03T01:18:42.156429Z",
     "shell.execute_reply": "2023-03-03T01:18:42.155354Z",
     "shell.execute_reply.started": "2023-03-03T01:18:39.651059Z"
    }
   },
   "outputs": [],
   "source": [
    "import torch\n",
    "import numpy as np\n",
    "from torchvision.datasets import ImageFolder\n",
    "from torchvision import transforms\n",
    "from torch.utils.data import DataLoader\n",
    "import matplotlib.pyplot as plt\n",
    "import torch.nn as nn\n",
    "import time\n",
    "from tqdm import tqdm\n",
    "import torch.nn.functional as F\n",
    "from torch.nn.functional import cross_entropy\n",
    "import os\n",
    "from thop import profile\n",
    "import pandas as pd\n",
    "import glob\n",
    "import math\n",
    "import torch.optim.lr_scheduler as lr_scheduler\n",
    "import sys\n",
    "\n",
    "# 配置运行设备\n",
    "device = torch.device('cuda' if torch.cuda.is_available() else 'cpu')\n",
    "\n",
    "# 设置参数\n",
    "batch_size = 32\n",
    "learning_rate = 0.00003\n",
    "num_epoch = 70\n",
    "model_name = 'basenet'"
   ]
  },
  {
   "cell_type": "code",
   "execution_count": 3,
   "metadata": {
    "execution": {
     "iopub.execute_input": "2023-03-03T01:18:42.159144Z",
     "iopub.status.busy": "2023-03-03T01:18:42.158214Z",
     "iopub.status.idle": "2023-03-03T01:18:42.167959Z",
     "shell.execute_reply": "2023-03-03T01:18:42.166802Z",
     "shell.execute_reply.started": "2023-03-03T01:18:42.159102Z"
    }
   },
   "outputs": [
    {
     "data": {
      "text/plain": [
       "'1.13.0'"
      ]
     },
     "execution_count": 3,
     "metadata": {},
     "output_type": "execute_result"
    }
   ],
   "source": [
    "torch.__version__"
   ]
  },
  {
   "cell_type": "code",
   "execution_count": 4,
   "metadata": {
    "execution": {
     "iopub.execute_input": "2023-03-03T01:18:42.170148Z",
     "iopub.status.busy": "2023-03-03T01:18:42.169589Z",
     "iopub.status.idle": "2023-03-03T01:18:53.810884Z",
     "shell.execute_reply": "2023-03-03T01:18:53.809716Z",
     "shell.execute_reply.started": "2023-03-03T01:18:42.170102Z"
    }
   },
   "outputs": [
    {
     "name": "stdout",
     "output_type": "stream",
     "text": [
      "8486 for train. 2122 for val\n"
     ]
    }
   ],
   "source": [
    "# 数据处理\n",
    "normalize = transforms.Normalize(mean=[0, 0, 0], std=[1, 1, 1])\n",
    "transform = transforms.Compose([\n",
    "    transforms.Resize([224, 224]),\n",
    "    transforms.ToTensor(),\n",
    "    normalize\n",
    "])\n",
    "\n",
    "# 读取图像数据\n",
    "train_dataset = ImageFolder('/kaggle/input/breakhis-total-dataset/train/', transform=transform)\n",
    "train_loader = DataLoader(train_dataset, batch_size=batch_size, shuffle=True)\n",
    "\n",
    "test_dataset = ImageFolder('/kaggle/input/breakhis-total-dataset/test/', transform=transform)\n",
    "test_loader = DataLoader(test_dataset, batch_size=batch_size, shuffle=True)\n",
    "\n",
    "print('{0} for train. {1} for val'.format(len(train_dataset), len(test_dataset)))"
   ]
  },
  {
   "cell_type": "code",
   "execution_count": 5,
   "metadata": {
    "execution": {
     "iopub.execute_input": "2023-03-03T01:18:53.815154Z",
     "iopub.status.busy": "2023-03-03T01:18:53.814438Z",
     "iopub.status.idle": "2023-03-03T01:18:53.822468Z",
     "shell.execute_reply": "2023-03-03T01:18:53.821206Z",
     "shell.execute_reply.started": "2023-03-03T01:18:53.815112Z"
    }
   },
   "outputs": [
    {
     "data": {
      "text/plain": [
       "device(type='cuda')"
      ]
     },
     "execution_count": 5,
     "metadata": {},
     "output_type": "execute_result"
    }
   ],
   "source": [
    "device"
   ]
  },
  {
   "cell_type": "code",
   "execution_count": 6,
   "metadata": {
    "execution": {
     "iopub.execute_input": "2023-03-03T01:18:53.825305Z",
     "iopub.status.busy": "2023-03-03T01:18:53.824413Z",
     "iopub.status.idle": "2023-03-03T01:18:53.855135Z",
     "shell.execute_reply": "2023-03-03T01:18:53.854007Z",
     "shell.execute_reply.started": "2023-03-03T01:18:53.825268Z"
    }
   },
   "outputs": [],
   "source": [
    "class Basenet(nn.Module):\n",
    "    def __init__(self):\n",
    "        super().__init__()\n",
    "        '''\n",
    "        input_shape: [B, 3, 224, 224]\n",
    "\n",
    "        '''\n",
    "        self.maxpool = nn.MaxPool2d(kernel_size=2, stride=2)\n",
    "        \n",
    "        self.conv_layer1 = nn.Conv2d(3, 16, 5, stride=1, padding=2)\n",
    "        self.conv_layer2 = nn.Conv2d(16, 32, 3, stride=1, padding=1)\n",
    "        self.conv_layer3 = nn.Conv2d(32, 64, 3, stride=1, padding=1)\n",
    "        self.conv_layer4 = nn.Conv2d(64, 128, 3, stride=1, padding=1)\n",
    "        self.conv_layer5 = nn.Conv2d(128, 256, 3, stride=1, padding=1)\n",
    "        self.conv_layer6 = nn.Conv2d(256, 512, 3, stride=1, padding=1)\n",
    "        self.inception = nn.Conv2d(32, 128, 3, stride=1, padding=1)\n",
    "        self.conv_layer_res = nn.Conv2d(128, 128, 3, stride=1, padding=1)\n",
    "\n",
    "        \n",
    "        self.relu = nn.ReLU(inplace=True)\n",
    "        self.adptavgpool2d = torch.nn.AdaptiveAvgPool2d(output_size=(1, 1))\n",
    "        self.fc = nn.Linear(512, 2, bias=True)\n",
    "        self.flatten = nn.Flatten(start_dim=1, end_dim=-1)\n",
    "\n",
    "    def forward(self, x):\n",
    "        \"\"\"\n",
    "        args:\n",
    "            x: Input img, (B, 3, 224, 224)\n",
    "        return:\n",
    "            the calss capsules, ench capsule is a 16 dimension vector\n",
    "\n",
    "        \"\"\"\n",
    "        x = self.relu(self.conv_layer1(x))  # [B, 16, 224, 224]\n",
    "        x = self.maxpool(x)# [B, 16, 112, 112]\n",
    "        x = self.relu(self.conv_layer2(x))\n",
    "        y = self.maxpool(x)# [B, 32, 56, 56]\n",
    "        \n",
    "        \n",
    "        x = self.relu(self.conv_layer3(y))\n",
    "        x = self.maxpool(x) # [B, 64, 28, 28]\n",
    "        x = self.conv_layer4(x) # [B, 128, 28, 28]\n",
    "        \n",
    "        y = self.inception(y) # [B, 128, 56, 56]\n",
    "        y = self.maxpool(self.conv_layer_res(y)) # [B, 128, 28, 28]\n",
    "        \n",
    "        x = self.relu(x + y)\n",
    "        x = self.maxpool(x) # [B, 128, 14, 14]\n",
    "        x = self.relu(self.conv_layer5(x)) # [B, 256, 14, 14]\n",
    "        x = self.maxpool(x)\n",
    "        x = self.relu(self.conv_layer6(x)) # [B, 512, 7, 7]\n",
    "        \n",
    "        x = self.adptavgpool2d(x)\n",
    "        x = self.flatten(x)\n",
    "        x = self.fc(x)\n",
    "        return x"
   ]
  },
  {
   "cell_type": "code",
   "execution_count": 7,
   "metadata": {
    "execution": {
     "iopub.execute_input": "2023-03-03T01:18:53.858769Z",
     "iopub.status.busy": "2023-03-03T01:18:53.858048Z",
     "iopub.status.idle": "2023-03-03T01:18:56.566582Z",
     "shell.execute_reply": "2023-03-03T01:18:56.565554Z",
     "shell.execute_reply.started": "2023-03-03T01:18:53.858732Z"
    }
   },
   "outputs": [],
   "source": [
    "save_path = '/kaggle/working/check_point'\n",
    "if not os.path.exists(save_path):\n",
    "    os.mkdir(save_path)\n",
    "result_path = os.path.join('/kaggle/working/check_point', model_name)\n",
    "if not os.path.exists(result_path):\n",
    "    print(1)\n",
    "    os.mkdir(result_path)\n",
    "if len(glob.glob(result_path + '/**.pth')) == 0:\n",
    "    model = Basenet()\n",
    "    fc_in_features = model.fc.in_features\n",
    "    model.fc = torch.nn.Linear(fc_in_features, 2, bias=True)\n",
    "else:\n",
    "    model_path = glob.glob(result_path + '/**.pth')[-1]\n",
    "    model = torch.load(model_path)\n",
    "    \n",
    "\n",
    "train_test_data_path = os.path.join(result_path, 'train_test_data.csv')\n",
    "if os.path.exists(train_test_data_path):\n",
    "    train_test_data = pd.read_csv(train_test_data_path)\n",
    "    last_epoch = train_test_data.shape[0]\n",
    "    test_acc_best = train_test_data['test_acc_best'].values[-1]\n",
    "else:\n",
    "    train_test_data = pd.DataFrame(data=[], columns=['train_acc', 'train_loss',\n",
    "                                                     'train_lr',\n",
    "                                                     'test_acc', 'test_loss', \n",
    "                                                     'epoch', 'test_acc_best'])\n",
    "    last_epoch = 0\n",
    "    test_acc_best = 0\n",
    "assert num_epoch > last_epoch, '已达训练次数'"
   ]
  },
  {
   "cell_type": "code",
   "execution_count": 8,
   "metadata": {
    "execution": {
     "iopub.execute_input": "2023-03-03T01:18:56.568173Z",
     "iopub.status.busy": "2023-03-03T01:18:56.567817Z",
     "iopub.status.idle": "2023-03-03T01:18:59.953353Z",
     "shell.execute_reply": "2023-03-03T01:18:59.951077Z",
     "shell.execute_reply.started": "2023-03-03T01:18:56.568138Z"
    }
   },
   "outputs": [
    {
     "name": "stdout",
     "output_type": "stream",
     "text": [
      "number of parameter: 1759138.0 , 59.3 GFLOPS\n",
      "{'Total': 1759138, 'Trainable': 1759138}\n"
     ]
    }
   ],
   "source": [
    "model = model.to(device)\n",
    "# 输出模型参数与模型计算量\n",
    "\n",
    "flops, params = profile(model, inputs=(torch.zeros((batch_size, 3, 224, 224)).to(device),), verbose=False)\n",
    "print(f'number of parameter: {params}', ', %.1f GFLOPS' % (flops / 1E9 * 2))\n",
    "\n",
    "def get_parameter_number(model):\n",
    "    total_num = sum(p.numel() for p in model.parameters())\n",
    "    trainable_num = sum(p.numel() for p in model.parameters()if p.requires_grad)\n",
    "    return {'Total': total_num, 'Trainable': trainable_num}\n",
    "print(get_parameter_number(model))"
   ]
  },
  {
   "cell_type": "code",
   "execution_count": 9,
   "metadata": {
    "execution": {
     "iopub.execute_input": "2023-03-03T01:18:59.957203Z",
     "iopub.status.busy": "2023-03-03T01:18:59.956855Z",
     "iopub.status.idle": "2023-03-03T06:06:38.195371Z",
     "shell.execute_reply": "2023-03-03T06:06:38.194349Z",
     "shell.execute_reply.started": "2023-03-03T01:18:59.957170Z"
    }
   },
   "outputs": [
    {
     "name": "stderr",
     "output_type": "stream",
     "text": [
      "                                                           \r"
     ]
    },
    {
     "name": "stdout",
     "output_type": "stream",
     "text": [
      "epoch[10] time[223.9]s lr:5e-05\n",
      "Accuracy on train set: 83.42%  eval_loss:0.36655137793455317\n",
      "Accuracy on test set: 83.93%  eval_loss:0.3635552724951511\n"
     ]
    },
    {
     "name": "stderr",
     "output_type": "stream",
     "text": [
      "                                                           \r"
     ]
    },
    {
     "name": "stdout",
     "output_type": "stream",
     "text": [
      "epoch[11] time[128.4]s lr:5e-05\n",
      "Accuracy on train set: 83.35%  eval_loss:0.3629819457890036\n",
      "Accuracy on test set: 83.32%  eval_loss:0.3596870456519383\n"
     ]
    },
    {
     "name": "stderr",
     "output_type": "stream",
     "text": [
      "                                                           \r"
     ]
    },
    {
     "name": "stdout",
     "output_type": "stream",
     "text": [
      "epoch[12] time[127.7]s lr:5e-05\n",
      "Accuracy on train set: 87.26%  eval_loss:0.2926089935585937\n",
      "Accuracy on test set: 87.18%  eval_loss:0.28510666107030325\n"
     ]
    },
    {
     "name": "stderr",
     "output_type": "stream",
     "text": [
      "                                                           \r"
     ]
    },
    {
     "name": "stdout",
     "output_type": "stream",
     "text": [
      "epoch[13] time[128.0]s lr:5e-05\n",
      "Accuracy on train set: 86.13%  eval_loss:0.32611081324607283\n",
      "Accuracy on test set: 86.15%  eval_loss:0.3292041294536537\n"
     ]
    },
    {
     "name": "stderr",
     "output_type": "stream",
     "text": [
      "                                                           \r"
     ]
    },
    {
     "name": "stdout",
     "output_type": "stream",
     "text": [
      "epoch[14] time[128.3]s lr:5e-05\n",
      "Accuracy on train set: 87.84%  eval_loss:0.28929778112433524\n",
      "Accuracy on test set: 88.22%  eval_loss:0.2789884083232826\n"
     ]
    },
    {
     "name": "stderr",
     "output_type": "stream",
     "text": [
      "                                                           \r"
     ]
    },
    {
     "name": "stdout",
     "output_type": "stream",
     "text": [
      "epoch[15] time[127.0]s lr:5e-05\n",
      "Accuracy on train set: 88.72%  eval_loss:0.27053758720449195\n",
      "Accuracy on test set: 88.69%  eval_loss:0.27053729146297645\n"
     ]
    },
    {
     "name": "stderr",
     "output_type": "stream",
     "text": [
      "                                                           \r"
     ]
    },
    {
     "name": "stdout",
     "output_type": "stream",
     "text": [
      "epoch[16] time[127.2]s lr:5e-05\n",
      "Accuracy on train set: 86.88%  eval_loss:0.31395214791851955\n",
      "Accuracy on test set: 87.37%  eval_loss:0.30285296318780464\n"
     ]
    },
    {
     "name": "stderr",
     "output_type": "stream",
     "text": [
      "                                                           \r"
     ]
    },
    {
     "name": "stdout",
     "output_type": "stream",
     "text": [
      "epoch[17] time[126.8]s lr:5e-05\n",
      "Accuracy on train set: 88.49%  eval_loss:0.26483769539586505\n",
      "Accuracy on test set: 88.45%  eval_loss:0.2696617429937314\n"
     ]
    },
    {
     "name": "stderr",
     "output_type": "stream",
     "text": [
      "                                                           \r"
     ]
    },
    {
     "name": "stdout",
     "output_type": "stream",
     "text": [
      "epoch[18] time[126.9]s lr:5e-05\n",
      "Accuracy on train set: 90.47%  eval_loss:0.24189850091653248\n",
      "Accuracy on test set: 90.25%  eval_loss:0.24343287130215616\n"
     ]
    },
    {
     "name": "stderr",
     "output_type": "stream",
     "text": [
      "                                                           \r"
     ]
    },
    {
     "name": "stdout",
     "output_type": "stream",
     "text": [
      "epoch[19] time[126.6]s lr:5e-05\n",
      "Accuracy on train set: 89.56%  eval_loss:0.27154593430626317\n",
      "Accuracy on test set: 88.69%  eval_loss:0.28081351513013203\n"
     ]
    },
    {
     "name": "stderr",
     "output_type": "stream",
     "text": [
      "                                                           \r"
     ]
    },
    {
     "name": "stdout",
     "output_type": "stream",
     "text": [
      "epoch[20] time[129.4]s lr:5e-05\n",
      "Accuracy on train set: 89.05%  eval_loss:0.26316829585197427\n",
      "Accuracy on test set: 88.31%  eval_loss:0.2733875482178993\n"
     ]
    },
    {
     "name": "stderr",
     "output_type": "stream",
     "text": [
      "                                                           \r"
     ]
    },
    {
     "name": "stdout",
     "output_type": "stream",
     "text": [
      "epoch[21] time[127.5]s lr:5e-05\n",
      "Accuracy on train set: 91.01%  eval_loss:0.22496981163393515\n",
      "Accuracy on test set: 89.73%  eval_loss:0.2238964171032092\n"
     ]
    },
    {
     "name": "stderr",
     "output_type": "stream",
     "text": [
      "                                                           \r"
     ]
    },
    {
     "name": "stdout",
     "output_type": "stream",
     "text": [
      "epoch[22] time[127.1]s lr:5e-05\n",
      "Accuracy on train set: 88.29%  eval_loss:0.28224863793113564\n",
      "Accuracy on test set: 87.51%  eval_loss:0.2850413646594631\n"
     ]
    },
    {
     "name": "stderr",
     "output_type": "stream",
     "text": [
      "                                                           \r"
     ]
    },
    {
     "name": "stdout",
     "output_type": "stream",
     "text": [
      "epoch[23] time[126.4]s lr:5e-05\n",
      "Accuracy on train set: 90.28%  eval_loss:0.22329332392409026\n",
      "Accuracy on test set: 89.87%  eval_loss:0.22910705607640755\n"
     ]
    },
    {
     "name": "stderr",
     "output_type": "stream",
     "text": [
      "                                                           \r"
     ]
    },
    {
     "name": "stdout",
     "output_type": "stream",
     "text": [
      "epoch[24] time[126.5]s lr:5e-05\n",
      "Accuracy on train set: 90.3%  eval_loss:0.24027821831115428\n",
      "Accuracy on test set: 89.3%  eval_loss:0.2585674670369528\n"
     ]
    },
    {
     "name": "stderr",
     "output_type": "stream",
     "text": [
      "                                                           \r"
     ]
    },
    {
     "name": "stdout",
     "output_type": "stream",
     "text": [
      "epoch[25] time[126.3]s lr:5e-05\n",
      "Accuracy on train set: 90.82%  eval_loss:0.2305483950875768\n",
      "Accuracy on test set: 90.01%  eval_loss:0.23414342039379726\n"
     ]
    },
    {
     "name": "stderr",
     "output_type": "stream",
     "text": [
      "                                                           \r"
     ]
    },
    {
     "name": "stdout",
     "output_type": "stream",
     "text": [
      "epoch[26] time[126.2]s lr:5e-05\n",
      "Accuracy on train set: 91.62%  eval_loss:0.2035130911205783\n",
      "Accuracy on test set: 91.14%  eval_loss:0.2112396154956476\n"
     ]
    },
    {
     "name": "stderr",
     "output_type": "stream",
     "text": [
      "                                                           \r"
     ]
    },
    {
     "name": "stdout",
     "output_type": "stream",
     "text": [
      "epoch[27] time[126.6]s lr:5e-05\n",
      "Accuracy on train set: 91.59%  eval_loss:0.21217039245045358\n",
      "Accuracy on test set: 91.42%  eval_loss:0.21487191580692402\n"
     ]
    },
    {
     "name": "stderr",
     "output_type": "stream",
     "text": [
      "                                                           \r"
     ]
    },
    {
     "name": "stdout",
     "output_type": "stream",
     "text": [
      "epoch[28] time[127.3]s lr:5e-05\n",
      "Accuracy on train set: 92.22%  eval_loss:0.18859665574483536\n",
      "Accuracy on test set: 91.94%  eval_loss:0.19737015653341924\n"
     ]
    },
    {
     "name": "stderr",
     "output_type": "stream",
     "text": [
      "                                                           \r"
     ]
    },
    {
     "name": "stdout",
     "output_type": "stream",
     "text": [
      "epoch[29] time[126.6]s lr:5e-05\n",
      "Accuracy on train set: 91.7%  eval_loss:0.1984199667746746\n",
      "Accuracy on test set: 90.95%  eval_loss:0.20954949365934036\n"
     ]
    },
    {
     "name": "stderr",
     "output_type": "stream",
     "text": [
      "                                                           \r"
     ]
    },
    {
     "name": "stdout",
     "output_type": "stream",
     "text": [
      "epoch[30] time[126.5]s lr:5e-05\n",
      "Accuracy on train set: 92.84%  eval_loss:0.18570492402748093\n",
      "Accuracy on test set: 91.28%  eval_loss:0.20042993992033373\n"
     ]
    },
    {
     "name": "stderr",
     "output_type": "stream",
     "text": [
      "                                                           \r"
     ]
    },
    {
     "name": "stdout",
     "output_type": "stream",
     "text": [
      "epoch[31] time[126.3]s lr:5e-05\n",
      "Accuracy on train set: 88.45%  eval_loss:0.27438412231289777\n",
      "Accuracy on test set: 87.89%  eval_loss:0.2906320197586739\n"
     ]
    },
    {
     "name": "stderr",
     "output_type": "stream",
     "text": [
      "                                                           \r"
     ]
    },
    {
     "name": "stdout",
     "output_type": "stream",
     "text": [
      "epoch[32] time[126.5]s lr:5e-05\n",
      "Accuracy on train set: 93.13%  eval_loss:0.17066176905753955\n",
      "Accuracy on test set: 92.51%  eval_loss:0.18211637544081416\n"
     ]
    },
    {
     "name": "stderr",
     "output_type": "stream",
     "text": [
      "                                                           \r"
     ]
    },
    {
     "name": "stdout",
     "output_type": "stream",
     "text": [
      "epoch[33] time[126.3]s lr:5e-05\n",
      "Accuracy on train set: 93.53%  eval_loss:0.16165429334749515\n",
      "Accuracy on test set: 92.65%  eval_loss:0.17530908571112055\n"
     ]
    },
    {
     "name": "stderr",
     "output_type": "stream",
     "text": [
      "                                                           \r"
     ]
    },
    {
     "name": "stdout",
     "output_type": "stream",
     "text": [
      "epoch[34] time[126.9]s lr:5e-05\n",
      "Accuracy on train set: 93.47%  eval_loss:0.16206028924751417\n",
      "Accuracy on test set: 92.93%  eval_loss:0.16625506865540055\n"
     ]
    },
    {
     "name": "stderr",
     "output_type": "stream",
     "text": [
      "                                                           \r"
     ]
    },
    {
     "name": "stdout",
     "output_type": "stream",
     "text": [
      "epoch[35] time[126.5]s lr:5e-05\n",
      "Accuracy on train set: 93.54%  eval_loss:0.1548181632667562\n",
      "Accuracy on test set: 94.49%  eval_loss:0.16491676112821257\n"
     ]
    },
    {
     "name": "stderr",
     "output_type": "stream",
     "text": [
      "                                                           \r"
     ]
    },
    {
     "name": "stdout",
     "output_type": "stream",
     "text": [
      "epoch[36] time[126.6]s lr:5e-05\n",
      "Accuracy on train set: 93.79%  eval_loss:0.1594500448971797\n",
      "Accuracy on test set: 93.64%  eval_loss:0.17465235269035964\n"
     ]
    },
    {
     "name": "stderr",
     "output_type": "stream",
     "text": [
      "                                                           \r"
     ]
    },
    {
     "name": "stdout",
     "output_type": "stream",
     "text": [
      "epoch[37] time[126.6]s lr:5e-05\n",
      "Accuracy on train set: 94.1%  eval_loss:0.14685788600513067\n",
      "Accuracy on test set: 93.07%  eval_loss:0.16996178876443588\n"
     ]
    },
    {
     "name": "stderr",
     "output_type": "stream",
     "text": [
      "                                                           \r"
     ]
    },
    {
     "name": "stdout",
     "output_type": "stream",
     "text": [
      "epoch[38] time[126.9]s lr:5e-05\n",
      "Accuracy on train set: 92.51%  eval_loss:0.19693943377010895\n",
      "Accuracy on test set: 91.33%  eval_loss:0.21098842576469148\n"
     ]
    },
    {
     "name": "stderr",
     "output_type": "stream",
     "text": [
      "                                                           \r"
     ]
    },
    {
     "name": "stdout",
     "output_type": "stream",
     "text": [
      "epoch[39] time[126.9]s lr:5e-05\n",
      "Accuracy on train set: 94.34%  eval_loss:0.15281733052224278\n",
      "Accuracy on test set: 92.93%  eval_loss:0.1701211340016177\n"
     ]
    },
    {
     "name": "stderr",
     "output_type": "stream",
     "text": [
      "                                                           \r"
     ]
    },
    {
     "name": "stdout",
     "output_type": "stream",
     "text": [
      "epoch[40] time[126.4]s lr:5e-05\n",
      "Accuracy on train set: 93.71%  eval_loss:0.16508478303261026\n",
      "Accuracy on test set: 91.94%  eval_loss:0.18690614209885198\n"
     ]
    },
    {
     "name": "stderr",
     "output_type": "stream",
     "text": [
      "                                                           \r"
     ]
    },
    {
     "name": "stdout",
     "output_type": "stream",
     "text": [
      "epoch[41] time[127.2]s lr:5e-05\n",
      "Accuracy on train set: 94.87%  eval_loss:0.1297354141644029\n",
      "Accuracy on test set: 94.06%  eval_loss:0.14474896226397782\n"
     ]
    },
    {
     "name": "stderr",
     "output_type": "stream",
     "text": [
      "                                                           \r"
     ]
    },
    {
     "name": "stdout",
     "output_type": "stream",
     "text": [
      "epoch[42] time[126.6]s lr:5e-05\n",
      "Accuracy on train set: 94.85%  eval_loss:0.12978436829991535\n",
      "Accuracy on test set: 93.92%  eval_loss:0.15106831819633623\n"
     ]
    },
    {
     "name": "stderr",
     "output_type": "stream",
     "text": [
      "                                                           \r"
     ]
    },
    {
     "name": "stdout",
     "output_type": "stream",
     "text": [
      "epoch[43] time[126.7]s lr:5e-05\n",
      "Accuracy on train set: 94.54%  eval_loss:0.13857481054629803\n",
      "Accuracy on test set: 94.16%  eval_loss:0.1538688547200015\n"
     ]
    },
    {
     "name": "stderr",
     "output_type": "stream",
     "text": [
      "                                                           \r"
     ]
    },
    {
     "name": "stdout",
     "output_type": "stream",
     "text": [
      "epoch[44] time[126.4]s lr:5e-05\n",
      "Accuracy on train set: 93.6%  eval_loss:0.16630710163067006\n",
      "Accuracy on test set: 91.89%  eval_loss:0.19340996468100877\n"
     ]
    },
    {
     "name": "stderr",
     "output_type": "stream",
     "text": [
      "                                                           \r"
     ]
    },
    {
     "name": "stdout",
     "output_type": "stream",
     "text": [
      "epoch[45] time[126.3]s lr:5e-05\n",
      "Accuracy on train set: 95.53%  eval_loss:0.1159535953030956\n",
      "Accuracy on test set: 94.63%  eval_loss:0.14319775376423252\n"
     ]
    },
    {
     "name": "stderr",
     "output_type": "stream",
     "text": [
      "                                                           \r"
     ]
    },
    {
     "name": "stdout",
     "output_type": "stream",
     "text": [
      "epoch[46] time[125.7]s lr:5e-05\n",
      "Accuracy on train set: 94.6%  eval_loss:0.13777478857897882\n",
      "Accuracy on test set: 93.54%  eval_loss:0.15360969765696406\n"
     ]
    },
    {
     "name": "stderr",
     "output_type": "stream",
     "text": [
      "                                                           \r"
     ]
    },
    {
     "name": "stdout",
     "output_type": "stream",
     "text": [
      "epoch[47] time[127.6]s lr:5e-05\n",
      "Accuracy on train set: 94.94%  eval_loss:0.13112070615311824\n",
      "Accuracy on test set: 93.83%  eval_loss:0.160387033679146\n"
     ]
    },
    {
     "name": "stderr",
     "output_type": "stream",
     "text": [
      "                                                           \r"
     ]
    },
    {
     "name": "stdout",
     "output_type": "stream",
     "text": [
      "epoch[48] time[126.6]s lr:5e-05\n",
      "Accuracy on train set: 89.7%  eval_loss:0.23260191252229911\n",
      "Accuracy on test set: 87.84%  eval_loss:0.28045121192033284\n"
     ]
    },
    {
     "name": "stderr",
     "output_type": "stream",
     "text": [
      "                                                           \r"
     ]
    },
    {
     "name": "stdout",
     "output_type": "stream",
     "text": [
      "epoch[49] time[126.5]s lr:5e-05\n",
      "Accuracy on train set: 95.56%  eval_loss:0.11452075395835842\n",
      "Accuracy on test set: 94.44%  eval_loss:0.133453527646285\n"
     ]
    },
    {
     "name": "stderr",
     "output_type": "stream",
     "text": [
      "                                                           \r"
     ]
    },
    {
     "name": "stdout",
     "output_type": "stream",
     "text": [
      "epoch[50] time[126.8]s lr:5e-05\n",
      "Accuracy on train set: 91.48%  eval_loss:0.20686547181606574\n",
      "Accuracy on test set: 89.63%  eval_loss:0.23925121357483645\n"
     ]
    },
    {
     "name": "stderr",
     "output_type": "stream",
     "text": [
      "                                                           \r"
     ]
    },
    {
     "name": "stdout",
     "output_type": "stream",
     "text": [
      "epoch[51] time[126.5]s lr:5e-05\n",
      "Accuracy on train set: 96.12%  eval_loss:0.10504478876415975\n",
      "Accuracy on test set: 94.72%  eval_loss:0.13136060323836554\n"
     ]
    },
    {
     "name": "stderr",
     "output_type": "stream",
     "text": [
      "                                                           \r"
     ]
    },
    {
     "name": "stdout",
     "output_type": "stream",
     "text": [
      "epoch[52] time[126.1]s lr:5e-05\n",
      "Accuracy on train set: 94.01%  eval_loss:0.15454656364779895\n",
      "Accuracy on test set: 92.84%  eval_loss:0.17955563206868166\n"
     ]
    },
    {
     "name": "stderr",
     "output_type": "stream",
     "text": [
      "                                                           \r"
     ]
    },
    {
     "name": "stdout",
     "output_type": "stream",
     "text": [
      "epoch[53] time[126.3]s lr:5e-05\n",
      "Accuracy on train set: 95.38%  eval_loss:0.11407813563286176\n",
      "Accuracy on test set: 94.77%  eval_loss:0.14570384037932846\n"
     ]
    },
    {
     "name": "stderr",
     "output_type": "stream",
     "text": [
      "                                                           \r"
     ]
    },
    {
     "name": "stdout",
     "output_type": "stream",
     "text": [
      "epoch[54] time[126.8]s lr:5e-05\n",
      "Accuracy on train set: 96.05%  eval_loss:0.10367945140399322\n",
      "Accuracy on test set: 94.82%  eval_loss:0.13062348726585607\n"
     ]
    },
    {
     "name": "stderr",
     "output_type": "stream",
     "text": [
      "                                                           \r"
     ]
    },
    {
     "name": "stdout",
     "output_type": "stream",
     "text": [
      "epoch[55] time[126.8]s lr:5e-05\n",
      "Accuracy on train set: 95.18%  eval_loss:0.1222579878946534\n",
      "Accuracy on test set: 94.3%  eval_loss:0.15312992268076042\n"
     ]
    },
    {
     "name": "stderr",
     "output_type": "stream",
     "text": [
      "                                                           \r"
     ]
    },
    {
     "name": "stdout",
     "output_type": "stream",
     "text": [
      "epoch[56] time[127.2]s lr:5e-05\n",
      "Accuracy on train set: 95.22%  eval_loss:0.12313857621568401\n",
      "Accuracy on test set: 93.54%  eval_loss:0.15009569574031595\n"
     ]
    },
    {
     "name": "stderr",
     "output_type": "stream",
     "text": [
      "                                                           \r"
     ]
    },
    {
     "name": "stdout",
     "output_type": "stream",
     "text": [
      "epoch[57] time[127.3]s lr:5e-05\n",
      "Accuracy on train set: 96.25%  eval_loss:0.10122465775481042\n",
      "Accuracy on test set: 95.0%  eval_loss:0.13670578846158452\n"
     ]
    },
    {
     "name": "stderr",
     "output_type": "stream",
     "text": [
      "                                                           \r"
     ]
    },
    {
     "name": "stdout",
     "output_type": "stream",
     "text": [
      "epoch[58] time[127.3]s lr:5e-05\n",
      "Accuracy on train set: 95.2%  eval_loss:0.11803638441661549\n",
      "Accuracy on test set: 94.2%  eval_loss:0.1493117251730999\n"
     ]
    },
    {
     "name": "stderr",
     "output_type": "stream",
     "text": [
      "                                                           \r"
     ]
    },
    {
     "name": "stdout",
     "output_type": "stream",
     "text": [
      "epoch[59] time[127.5]s lr:5e-05\n",
      "Accuracy on train set: 96.85%  eval_loss:0.08913987101655566\n",
      "Accuracy on test set: 95.1%  eval_loss:0.11905781170537627\n"
     ]
    },
    {
     "name": "stderr",
     "output_type": "stream",
     "text": [
      "                                                           \r"
     ]
    },
    {
     "name": "stdout",
     "output_type": "stream",
     "text": [
      "epoch[60] time[127.4]s lr:5e-05\n",
      "Accuracy on train set: 95.56%  eval_loss:0.11304561071924912\n",
      "Accuracy on test set: 93.4%  eval_loss:0.15297124191458555\n"
     ]
    },
    {
     "name": "stderr",
     "output_type": "stream",
     "text": [
      "                                                           \r"
     ]
    },
    {
     "name": "stdout",
     "output_type": "stream",
     "text": [
      "epoch[61] time[127.7]s lr:5e-05\n",
      "Accuracy on train set: 95.36%  eval_loss:0.11879166270971242\n",
      "Accuracy on test set: 93.5%  eval_loss:0.14702825288970328\n"
     ]
    },
    {
     "name": "stderr",
     "output_type": "stream",
     "text": [
      "                                                           \r"
     ]
    },
    {
     "name": "stdout",
     "output_type": "stream",
     "text": [
      "epoch[62] time[127.4]s lr:5e-05\n",
      "Accuracy on train set: 92.14%  eval_loss:0.17942396773413025\n",
      "Accuracy on test set: 92.51%  eval_loss:0.21328480868941765\n"
     ]
    },
    {
     "name": "stderr",
     "output_type": "stream",
     "text": [
      "                                                           \r"
     ]
    },
    {
     "name": "stdout",
     "output_type": "stream",
     "text": [
      "epoch[63] time[130.7]s lr:5e-05\n",
      "Accuracy on train set: 94.91%  eval_loss:0.13001211228399184\n",
      "Accuracy on test set: 93.45%  eval_loss:0.16033254273088332\n"
     ]
    },
    {
     "name": "stderr",
     "output_type": "stream",
     "text": [
      "                                                           \r"
     ]
    },
    {
     "name": "stdout",
     "output_type": "stream",
     "text": [
      "epoch[64] time[126.9]s lr:5e-05\n",
      "Accuracy on train set: 96.52%  eval_loss:0.08912130640505789\n",
      "Accuracy on test set: 95.19%  eval_loss:0.12476520643382562\n"
     ]
    },
    {
     "name": "stderr",
     "output_type": "stream",
     "text": [
      "                                                           \r"
     ]
    },
    {
     "name": "stdout",
     "output_type": "stream",
     "text": [
      "epoch[65] time[127.7]s lr:5e-05\n",
      "Accuracy on train set: 95.99%  eval_loss:0.10532818281956785\n",
      "Accuracy on test set: 94.16%  eval_loss:0.14395699368457993\n"
     ]
    },
    {
     "name": "stderr",
     "output_type": "stream",
     "text": [
      "                                                           \r"
     ]
    },
    {
     "name": "stdout",
     "output_type": "stream",
     "text": [
      "epoch[66] time[126.9]s lr:5e-05\n",
      "Accuracy on train set: 94.01%  eval_loss:0.168759727580576\n",
      "Accuracy on test set: 92.6%  eval_loss:0.20885842979572272\n"
     ]
    },
    {
     "name": "stderr",
     "output_type": "stream",
     "text": [
      "                                                           \r"
     ]
    },
    {
     "name": "stdout",
     "output_type": "stream",
     "text": [
      "epoch[67] time[126.9]s lr:5e-05\n",
      "Accuracy on train set: 95.04%  eval_loss:0.1278197416263511\n",
      "Accuracy on test set: 93.03%  eval_loss:0.18080982821488809\n"
     ]
    },
    {
     "name": "stderr",
     "output_type": "stream",
     "text": [
      "                                                           \r"
     ]
    },
    {
     "name": "stdout",
     "output_type": "stream",
     "text": [
      "epoch[68] time[126.8]s lr:5e-05\n",
      "Accuracy on train set: 95.33%  eval_loss:0.11306793861672362\n",
      "Accuracy on test set: 93.36%  eval_loss:0.16314843367226947\n"
     ]
    },
    {
     "name": "stderr",
     "output_type": "stream",
     "text": [
      "                                                           \r"
     ]
    },
    {
     "name": "stdout",
     "output_type": "stream",
     "text": [
      "epoch[69] time[128.5]s lr:5e-05\n",
      "Accuracy on train set: 95.17%  eval_loss:0.11870106893863538\n",
      "Accuracy on test set: 94.63%  eval_loss:0.1667495112195541\n"
     ]
    },
    {
     "data": {
      "image/png": "[encoded data removed]",
      "text/plain": [
       "<Figure size 800x800 with 2 Axes>"
      ]
     },
     "metadata": {},
     "output_type": "display_data"
    }
   ],
   "source": [
    "optimizer = torch.optim.Adam(model.parameters(), lr=learning_rate)\n",
    "loss_fn = torch.nn.CrossEntropyLoss(reduction='sum')\n",
    "\n",
    "\n",
    "def train(epoch, dataloder):\n",
    "    model.train()\n",
    "\n",
    "    t0 = time.time()\n",
    "    for (X_batch, y_batch) in tqdm(dataloder, leave=False, desc=f'epoch:{epoch}'):\n",
    "        X_batch, y_batch = X_batch.to(device), y_batch.to(device)\n",
    "        optimizer.zero_grad()\n",
    "\n",
    "        out_put = model(X_batch)\n",
    "        loss = loss_fn(out_put, y_batch)\n",
    "        loss.backward()\n",
    "        optimizer.step()\n",
    "    now_lr = optimizer.param_groups[0][\"lr\"]\n",
    "#     scheduler.step()\n",
    "    t1 = time.time()\n",
    "    print(f'epoch[{epoch}] time[{round(t1 - t0, 1)}]s lr:{now_lr}')\n",
    "    return now_lr\n",
    "\n",
    "def evaluate(data_loader, type):\n",
    "    model.eval()\n",
    "    with torch.no_grad():\n",
    "        correct = 0\n",
    "        total = 0\n",
    "        eval_loss = 0\n",
    "        for images, labels in data_loader:\n",
    "            images = images.to(device)\n",
    "            labels = labels.to(device)\n",
    "            outputs = model(images)\n",
    "            _, predicted = torch.max(F.softmax(outputs, dim=-1), 1)\n",
    "            total += labels.size(0)\n",
    "            correct += (predicted == labels).sum().item()\n",
    "            eval_loss += loss_fn(outputs, labels).item()\n",
    "    acc = 100 * correct / total\n",
    "    print(f'Accuracy on {type} set: {round(acc, 2)}%  eval_loss:{eval_loss / total}')\n",
    "    return acc, eval_loss / total\n",
    "\n",
    "\n",
    "'''\n",
    "每次运行之后要保存：\n",
    "1.模型本身\n",
    "2.模型迭代次数\n",
    "3.模型学习率\n",
    "4.历代模型表现情况loss,acc等\n",
    "\n",
    "'''\n",
    "\n",
    "\n",
    "if __name__ == '__main__':\n",
    "    weight_path_best = os.path.join(result_path, 'best')\n",
    "    if not os.path.exists(weight_path_best):\n",
    "        os.mkdir(weight_path_best)\n",
    "    for epoch in range(last_epoch, num_epoch):\n",
    "        weight_name = '{}-oral'.format(model_name)\n",
    "        lr = train(epoch, train_loader)\n",
    "        train_acc, train_loss = evaluate(train_loader, type='train')\n",
    "        test_acc, test_loss = evaluate(test_loader, type='test')\n",
    "        \n",
    "        # 保存训练好的模型之前，删掉已有的模型\n",
    "        for f in glob.glob(result_path + '/**.pth'):\n",
    "            os.remove(f)\n",
    "        weight_name = weight_name + '_epoch{}.pth'.format(epoch + 1)\n",
    "        weight_path = os.path.join(result_path, weight_name)\n",
    "        torch.save(model, weight_path)\n",
    "        \n",
    "        if test_acc > test_acc_best:\n",
    "            test_acc_best = test_acc\n",
    "            for f in glob.glob(weight_path_best + '/**.pth'):\n",
    "                os.remove(f)\n",
    "            torch.save(model, os.path.join(weight_path_best, weight_name))\n",
    "        train_test_data.loc[len(train_test_data.index)] = [train_acc, train_loss,\n",
    "                                                           lr,\n",
    "                                                           test_acc, test_loss,\n",
    "                                                           epoch, test_acc_best]\n",
    "\n",
    "        train_test_data.to_csv(train_test_data_path, index=False)\n",
    "\n",
    "    train_acc_array = train_test_data['train_acc'].values\n",
    "    test_acc_array = train_test_data['test_acc'].values\n",
    "    train_loss_array = train_test_data['train_loss'].values\n",
    "    test_loss_array = train_test_data['test_loss'].values\n",
    "\n",
    "    plt.figure(figsize=(8, 8))\n",
    "    plt.subplot(2, 1, 1)\n",
    "    plt.plot(train_acc_array, label='Training Accuracy')\n",
    "    plt.plot(test_acc_array, label='Validation Accuracy')\n",
    "    plt.legend(loc='lower right')\n",
    "    plt.ylabel('Accuracy')\n",
    "    plt.title('Capsnet Training and Validation Accuracy')\n",
    "\n",
    "    plt.subplot(2, 1, 2)\n",
    "    plt.plot(train_loss_array, label='Training Loss')\n",
    "    plt.plot(test_loss_array, label='Validation Loss')\n",
    "    plt.legend(loc='upper right')\n",
    "    plt.ylabel('Margin Entropy')\n",
    "    plt.title('Capsnet Training and Validation Loss')\n",
    "    plt.xlabel('epoch')\n",
    "    plt.show()"
   ]
  },
  {
   "cell_type": "code",
   "execution_count": 1,
   "metadata": {
    "execution": {
     "iopub.execute_input": "2023-03-16T01:20:17.837208Z",
     "iopub.status.busy": "2023-03-16T01:20:17.836831Z",
     "iopub.status.idle": "2023-03-16T01:20:19.846895Z",
     "shell.execute_reply": "2023-03-16T01:20:19.845435Z",
     "shell.execute_reply.started": "2023-03-16T01:20:17.837178Z"
    }
   },
   "outputs": [
    {
     "data": {
      "text/html": [
       "<a href='output.zip' target='_blank'>output.zip</a><br>"
      ],
      "text/plain": [
       "/kaggle/working/output.zip"
      ]
     },
     "execution_count": 1,
     "metadata": {},
     "output_type": "execute_result"
    }
   ],
   "source": [
    "!zip -q -r output.zip /kaggle/working/\n",
    "\n",
    "import os\n",
    "os.chdir('/kaggle/working')\n",
    "from IPython.display import FileLink\n",
    "FileLink('output.zip')"
   ]
  },
  {
   "cell_type": "code",
   "execution_count": null,
   "metadata": {},
   "outputs": [],
   "source": []
  }
 ],
 "metadata": {
  "kernelspec": {
   "display_name": "Python 3 (ipykernel)",
   "language": "python",
   "name": "python3"
  },
  "language_info": {
   "codemirror_mode": {
    "name": "ipython",
    "version": 3
   },
   "file_extension": ".py",
   "mimetype": "text/x-python",
   "name": "python",
   "nbconvert_exporter": "python",
   "pygments_lexer": "ipython3",
   "version": "3.8.5"
  }
 },
 "nbformat": 4,
 "nbformat_minor": 4
}
